{
  "nbformat": 4,
  "nbformat_minor": 0,
  "metadata": {
    "colab": {
      "provenance": [],
      "authorship_tag": "ABX9TyMJpZoKrmcBEBIO4Om4KDdC",
      "include_colab_link": true
    },
    "kernelspec": {
      "name": "python3",
      "display_name": "Python 3"
    },
    "language_info": {
      "name": "python"
    }
  },
  "cells": [
    {
      "cell_type": "markdown",
      "metadata": {
        "id": "view-in-github",
        "colab_type": "text"
      },
      "source": [
        "<a href=\"https://colab.research.google.com/github/AnyPham/Project-Final-Maching-Learning/blob/main/Project_Ph%C6%B0%C6%A1ng_Ph%C3%A1p_D%E1%BB%B1_%C4%90o%C3%A1n_%C4%90i%E1%BB%83m_Cu%E1%BB%91i_K%C3%AC_C%E1%BB%A7a_Sinh_Vi%C3%AAn_D%E1%BB%B1a_Tr%C3%AAn_C%C3%A1c_Thu%E1%BA%ADt_To%C3%A1n_Machine_Learning.ipynb\" target=\"_parent\"><img src=\"https://colab.research.google.com/assets/colab-badge.svg\" alt=\"Open In Colab\"/></a>"
      ]
    },
    {
      "cell_type": "code",
      "source": [
        "from google.colab import drive\n",
        "drive.mount('/content/gdrive')\n",
        "%cd '/content/gdrive/MyDrive/projectfinal'"
      ],
      "metadata": {
        "colab": {
          "base_uri": "https://localhost:8080/"
        },
        "id": "PCeWW8avx8aO",
        "outputId": "a1b9bef9-6ac2-4dfd-8920-9228d9ab2492"
      },
      "execution_count": null,
      "outputs": [
        {
          "output_type": "stream",
          "name": "stdout",
          "text": [
            "Drive already mounted at /content/gdrive; to attempt to forcibly remount, call drive.mount(\"/content/gdrive\", force_remount=True).\n",
            "/content/gdrive/MyDrive/projectfinal\n"
          ]
        }
      ]
    },
    {
      "cell_type": "markdown",
      "source": [
        "Import libraries"
      ],
      "metadata": {
        "id": "U7joEMoOw8QP"
      }
    },
    {
      "cell_type": "code",
      "source": [
        "import pandas as pd\n",
        "from sklearn.model_selection import train_test_split\n",
        "from sklearn.preprocessing import StandardScaler\n",
        "from sklearn.neural_network import MLPRegressor\n",
        "from sklearn.ensemble import RandomForestRegressor\n",
        "from sklearn.svm import SVR\n",
        "from sklearn.linear_model import LinearRegression\n",
        "from sklearn.metrics import mean_squared_error, mean_absolute_error, r2_score\n",
        "from tabulate import tabulate\n"
      ],
      "metadata": {
        "id": "r7fb27fKxIQc"
      },
      "execution_count": null,
      "outputs": []
    },
    {
      "cell_type": "markdown",
      "source": [
        "**CodeTrain**\n",
        "\n",
        "\n",
        "\n"
      ],
      "metadata": {
        "id": "dKiQ0gRHycX-"
      }
    },
    {
      "cell_type": "code",
      "source": [
        "# Đọc dữ liệu\n",
        "data = pd.read_csv('student_data.csv')"
      ],
      "metadata": {
        "id": "2Ukbto4zyb8-"
      },
      "execution_count": null,
      "outputs": []
    },
    {
      "cell_type": "code",
      "source": [
        "# Tiền xử lý dữ liệu\n",
        "features = data.drop(['final_score', 'student_id', 'name'], axis=1)\n",
        "target = data['final_score']\n",
        "\n",
        "X_train, X_test, y_train, y_test = train_test_split(features, target, test_size=0.2, random_state=42)\n",
        "\n",
        "scaler = StandardScaler()\n",
        "X_train_scaled = scaler.fit_transform(X_train)\n",
        "X_test_scaled = scaler.transform(X_test)"
      ],
      "metadata": {
        "id": "aYJLbZ0cyyQ4"
      },
      "execution_count": null,
      "outputs": []
    },
    {
      "cell_type": "markdown",
      "source": [
        "**Neural Network**"
      ],
      "metadata": {
        "id": "Tiovw4tpzQUM"
      }
    },
    {
      "cell_type": "code",
      "source": [
        "# Neural Network\n",
        "nn = MLPRegressor(hidden_layer_sizes=(100,), activation='relu', solver='adam', max_iter=500, random_state=42)\n",
        "nn.fit(X_train_scaled, y_train)\n",
        "nn_pred = nn.predict(X_test_scaled)"
      ],
      "metadata": {
        "id": "uqTaMqyMy3fk"
      },
      "execution_count": null,
      "outputs": []
    },
    {
      "cell_type": "markdown",
      "source": [
        "**Random Forest**"
      ],
      "metadata": {
        "id": "Sc27CiDazZe5"
      }
    },
    {
      "cell_type": "code",
      "source": [
        "# Random Forest\n",
        "rf = RandomForestRegressor(n_estimators=100, random_state=42)\n",
        "rf.fit(X_train, y_train)\n",
        "rf_pred = rf.predict(X_test)"
      ],
      "metadata": {
        "id": "Pduu7B5szPP4"
      },
      "execution_count": null,
      "outputs": []
    },
    {
      "cell_type": "markdown",
      "source": [
        "**SVM**"
      ],
      "metadata": {
        "id": "8c6_kCbIzcAA"
      }
    },
    {
      "cell_type": "code",
      "source": [
        "# SVM\n",
        "svm = SVR(kernel='rbf', C=1.0, gamma='scale')\n",
        "svm.fit(X_train_scaled, y_train)\n",
        "svm_pred = svm.predict(X_test_scaled)"
      ],
      "metadata": {
        "id": "mVq4Ncc2zf6n"
      },
      "execution_count": null,
      "outputs": []
    },
    {
      "cell_type": "markdown",
      "source": [
        "**Linear Regression**"
      ],
      "metadata": {
        "id": "btalXg5pzkTK"
      }
    },
    {
      "cell_type": "code",
      "source": [
        "# Linear Regression\n",
        "lr = LinearRegression()\n",
        "lr.fit(X_train, y_train)\n",
        "lr_pred = lr.predict(X_test)"
      ],
      "metadata": {
        "id": "safvgTzDzmj0"
      },
      "execution_count": null,
      "outputs": []
    },
    {
      "cell_type": "markdown",
      "source": [
        "**Đánh giá mô hình**"
      ],
      "metadata": {
        "id": "q8im_KI8zrdY"
      }
    },
    {
      "cell_type": "code",
      "source": [
        "# Evaluate model\n",
        "def evaluate_model(y_test, y_pred):\n",
        "    mse = mean_squared_error(y_test, y_pred)\n",
        "    mae = mean_absolute_error(y_test, y_pred)\n",
        "    r2 = r2_score(y_test, y_pred)\n",
        "    return mse, mae, r2\n",
        "\n",
        "nn_mse, nn_mae, nn_r2 = evaluate_model(y_test, nn_pred)\n",
        "rf_mse, rf_mae, rf_r2 = evaluate_model(y_test, rf_pred)\n",
        "svm_mse, svm_mae, svm_r2 = evaluate_model(y_test, svm_pred)\n",
        "lr_mse, lr_mae, lr_r2 = evaluate_model(y_test, lr_pred)\n",
        "\n",
        "# Add accuracy percentage to the results table\n",
        "table_with_accuracy = [\n",
        "    [\"Neural Network\", nn_mse, nn_mae, nn_r2, nn_r2 * 100],\n",
        "    [\"Random Forest\", rf_mse, rf_mae, rf_r2, rf_r2 * 100],\n",
        "    [\"SVM\", svm_mse, svm_mae, svm_r2, svm_r2 * 100],\n",
        "    [\"Linear Regression\", lr_mse, lr_mae, lr_r2, lr_r2 * 100]\n",
        "]\n",
        "\n",
        "headers_with_accuracy = [\"Model\", \"MSE\", \"MAE\", \"R²\", \"Accuracy (%)\"]\n",
        "\n",
        "# Print the results table with accuracy percentage\n",
        "result_table_with_accuracy = tabulate(table_with_accuracy, headers_with_accuracy, tablefmt=\"pretty\")\n",
        "print(result_table_with_accuracy)"
      ],
      "metadata": {
        "colab": {
          "base_uri": "https://localhost:8080/"
        },
        "id": "E669czq-zwy-",
        "outputId": "69f10291-39b1-437c-8171-65d211470d72"
      },
      "execution_count": null,
      "outputs": [
        {
          "output_type": "stream",
          "name": "stdout",
          "text": [
            "+-------------------+--------------------+--------------------+--------------------+-------------------+\n",
            "|       Model       |        MSE         |        MAE         |         R²         |   Accuracy (%)    |\n",
            "+-------------------+--------------------+--------------------+--------------------+-------------------+\n",
            "|  Neural Network   | 0.3564634050821492 | 0.511226931762584  | 0.8596961986103178 | 85.96961986103177 |\n",
            "|   Random Forest   | 0.4006348504175928 | 0.513204718959532  | 0.8423103418713601 | 84.23103418713602 |\n",
            "|        SVM        | 0.3801002674932703 | 0.5212235219724696 | 0.8503927424857237 | 85.03927424857237 |\n",
            "| Linear Regression | 0.3341722754533247 | 0.4993890288914766 | 0.8684699750474068 | 86.84699750474067 |\n",
            "+-------------------+--------------------+--------------------+--------------------+-------------------+\n"
          ]
        }
      ]
    }
  ]
}